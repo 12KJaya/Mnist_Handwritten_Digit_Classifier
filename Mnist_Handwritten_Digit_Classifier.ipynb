{
  "nbformat": 4,
  "nbformat_minor": 0,
  "metadata": {
    "colab": {
      "name": "Mnist_Handwritten_Digit_Classifier.ipynb",
      "provenance": [],
      "collapsed_sections": [],
      "authorship_tag": "ABX9TyNtAJS+//hl9rJyq7wy/SxF",
      "include_colab_link": true
    },
    "kernelspec": {
      "name": "python3",
      "display_name": "Python 3"
    }
  },
  "cells": [
    {
      "cell_type": "markdown",
      "metadata": {
        "id": "view-in-github",
        "colab_type": "text"
      },
      "source": [
        "<a href=\"https://colab.research.google.com/github/12KJaya/Mnist_Handwritten_Digit_Classifier/blob/master/Mnist_Handwritten_Digit_Classifier.ipynb\" target=\"_parent\"><img src=\"https://colab.research.google.com/assets/colab-badge.svg\" alt=\"Open In Colab\"/></a>"
      ]
    },
    {
      "cell_type": "code",
      "metadata": {
        "id": "yyMVe1oPWXmU",
        "colab_type": "code",
        "colab": {}
      },
      "source": [
        "import tensorflow as tf\n",
        "import matplotlib.pyplot as plt"
      ],
      "execution_count": 15,
      "outputs": []
    },
    {
      "cell_type": "code",
      "metadata": {
        "id": "iRLVUpbuWbTU",
        "colab_type": "code",
        "colab": {}
      },
      "source": [
        "mnist = tf.keras.datasets.mnist"
      ],
      "execution_count": 16,
      "outputs": []
    },
    {
      "cell_type": "code",
      "metadata": {
        "id": "sLjzsb5LWeFC",
        "colab_type": "code",
        "colab": {}
      },
      "source": [
        "(xtrain,ytrain),(xtest,ytest) = mnist.load_data()"
      ],
      "execution_count": 17,
      "outputs": []
    },
    {
      "cell_type": "code",
      "metadata": {
        "id": "HaFGzTZ2WhJA",
        "colab_type": "code",
        "colab": {
          "base_uri": "https://localhost:8080/",
          "height": 34
        },
        "outputId": "b0bbae28-9b11-48f2-f945-573e5b734df4"
      },
      "source": [
        "len(ytest)"
      ],
      "execution_count": 18,
      "outputs": [
        {
          "output_type": "execute_result",
          "data": {
            "text/plain": [
              "10000"
            ]
          },
          "metadata": {
            "tags": []
          },
          "execution_count": 18
        }
      ]
    },
    {
      "cell_type": "code",
      "metadata": {
        "id": "Spdfi_ahWk-e",
        "colab_type": "code",
        "colab": {
          "base_uri": "https://localhost:8080/",
          "height": 265
        },
        "outputId": "64460bd8-7b20-4ff6-9606-cece1454163b"
      },
      "source": [
        "plt.imshow(xtrain[10],cmap='gray')\n",
        "plt.show()"
      ],
      "execution_count": 19,
      "outputs": [
        {
          "output_type": "display_data",
          "data": {
            "image/png": "[encoded data removed]",
            "text/plain": [
              "<Figure size 432x288 with 1 Axes>"
            ]
          },
          "metadata": {
            "tags": [],
            "needs_background": "light"
          }
        }
      ]
    },
    {
      "cell_type": "code",
      "metadata": {
        "id": "Jv3yonAvWner",
        "colab_type": "code",
        "colab": {
          "base_uri": "https://localhost:8080/",
          "height": 265
        },
        "outputId": "873d79e0-c5eb-412c-90ee-735ea726390a"
      },
      "source": [
        "plt.imshow(xtrain[225],cmap=plt.cm.binary)\n",
        "plt.show()"
      ],
      "execution_count": 20,
      "outputs": [
        {
          "output_type": "display_data",
          "data": {
            "image/png": "[encoded data removed]",
            "text/plain": [
              "<Figure size 432x288 with 1 Axes>"
            ]
          },
          "metadata": {
            "tags": [],
            "needs_background": "light"
          }
        }
      ]
    },
    {
      "cell_type": "code",
      "metadata": {
        "id": "yKHS8l4SWtro",
        "colab_type": "code",
        "colab": {
          "base_uri": "https://localhost:8080/",
          "height": 34
        },
        "outputId": "8a0c6949-5b58-4baf-d624-fc79e1b91144"
      },
      "source": [
        "ytrain[225]"
      ],
      "execution_count": 21,
      "outputs": [
        {
          "output_type": "execute_result",
          "data": {
            "text/plain": [
              "8"
            ]
          },
          "metadata": {
            "tags": []
          },
          "execution_count": 21
        }
      ]
    },
    {
      "cell_type": "code",
      "metadata": {
        "id": "Ea4F07epWwGd",
        "colab_type": "code",
        "colab": {}
      },
      "source": [
        "xtrain = tf.keras.utils.normalize(xtrain)\n",
        "xtest = tf.keras.utils.normalize(xtest)"
      ],
      "execution_count": 22,
      "outputs": []
    },
    {
      "cell_type": "code",
      "metadata": {
        "id": "TZjxOavOWzHf",
        "colab_type": "code",
        "colab": {
          "base_uri": "https://localhost:8080/",
          "height": 34
        },
        "outputId": "9b830513-53b5-44e7-88df-f700d677bdba"
      },
      "source": [
        "xtrain.shape"
      ],
      "execution_count": 23,
      "outputs": [
        {
          "output_type": "execute_result",
          "data": {
            "text/plain": [
              "(60000, 28, 28)"
            ]
          },
          "metadata": {
            "tags": []
          },
          "execution_count": 23
        }
      ]
    },
    {
      "cell_type": "code",
      "metadata": {
        "id": "W9nRDKVYW21_",
        "colab_type": "code",
        "colab": {}
      },
      "source": [
        "### Build Model\n",
        "model = tf.keras.models.Sequential()"
      ],
      "execution_count": 24,
      "outputs": []
    },
    {
      "cell_type": "code",
      "metadata": {
        "id": "4GRSq8fMW6z0",
        "colab_type": "code",
        "colab": {}
      },
      "source": [
        "## adding layer\n",
        "model.add(tf.keras.layers.Flatten())  ## input layer\n",
        "model.add(tf.keras.layers.Dense(784,activation='relu'))  ## hidden layer\n",
        "model.add(tf.keras.layers.Dense(600,activation='relu'))  ## hidden layer\n",
        "model.add(tf.keras.layers.Dense(64,activation='relu'))  ## hidden layer\n",
        "model.add(tf.keras.layers.Dense(10,activation='softmax'))  ## output layer"
      ],
      "execution_count": 25,
      "outputs": []
    },
    {
      "cell_type": "code",
      "metadata": {
        "id": "KKz01Y3TW9qk",
        "colab_type": "code",
        "colab": {}
      },
      "source": [
        "## Compile (configure) Model\n",
        "model.compile(loss='sparse_categorical_crossentropy',optimizer='adam',metrics=['accuracy'])"
      ],
      "execution_count": 26,
      "outputs": []
    },
    {
      "cell_type": "code",
      "metadata": {
        "id": "n0Q-XHVOXEHz",
        "colab_type": "code",
        "colab": {
          "base_uri": "https://localhost:8080/",
          "height": 136
        },
        "outputId": "3146f32c-b5d6-4345-9b71-1d411eeafe36"
      },
      "source": [
        "## Training the model\n",
        "model.fit(xtrain,ytrain,epochs=3)"
      ],
      "execution_count": 27,
      "outputs": [
        {
          "output_type": "stream",
          "text": [
            "Epoch 1/3\n",
            "1875/1875 [==============================] - 20s 11ms/step - loss: 0.2012 - accuracy: 0.9377\n",
            "Epoch 2/3\n",
            "1875/1875 [==============================] - 21s 11ms/step - loss: 0.0887 - accuracy: 0.9727\n",
            "Epoch 3/3\n",
            "1875/1875 [==============================] - 21s 11ms/step - loss: 0.0600 - accuracy: 0.9815\n"
          ],
          "name": "stdout"
        },
        {
          "output_type": "execute_result",
          "data": {
            "text/plain": [
              "<tensorflow.python.keras.callbacks.History at 0x7f13850a7b70>"
            ]
          },
          "metadata": {
            "tags": []
          },
          "execution_count": 27
        }
      ]
    },
    {
      "cell_type": "code",
      "metadata": {
        "id": "rtEN_QCHXHrX",
        "colab_type": "code",
        "colab": {}
      },
      "source": [
        "predictions = model.predict(xtest)"
      ],
      "execution_count": 28,
      "outputs": []
    },
    {
      "cell_type": "code",
      "metadata": {
        "id": "wg7B2dguXYK9",
        "colab_type": "code",
        "colab": {
          "base_uri": "https://localhost:8080/",
          "height": 265
        },
        "outputId": "950396c6-a6fc-498d-bf16-c90450577ca1"
      },
      "source": [
        "plt.imshow(xtest[123],cmap='gray')\n",
        "plt.show()"
      ],
      "execution_count": 29,
      "outputs": [
        {
          "output_type": "display_data",
          "data": {
            "image/png": "[encoded data removed]",
            "text/plain": [
              "<Figure size 432x288 with 1 Axes>"
            ]
          },
          "metadata": {
            "tags": [],
            "needs_background": "light"
          }
        }
      ]
    },
    {
      "cell_type": "code",
      "metadata": {
        "id": "Yeco1MvJXbI7",
        "colab_type": "code",
        "colab": {
          "base_uri": "https://localhost:8080/",
          "height": 34
        },
        "outputId": "411a466a-6599-4ac9-b3b4-704516cfaaa9"
      },
      "source": [
        "import numpy as np\n",
        "np.argmax(predictions[123])"
      ],
      "execution_count": 30,
      "outputs": [
        {
          "output_type": "execute_result",
          "data": {
            "text/plain": [
              "6"
            ]
          },
          "metadata": {
            "tags": []
          },
          "execution_count": 30
        }
      ]
    },
    {
      "cell_type": "code",
      "metadata": {
        "id": "inZXHY22Xe2B",
        "colab_type": "code",
        "colab": {
          "base_uri": "https://localhost:8080/",
          "height": 51
        },
        "outputId": "f335a310-190b-401d-ef28-4b96c3d24f7f"
      },
      "source": [
        "val_loss,val_acc = model.evaluate(xtest,ytest)\n",
        "print(val_loss,val_acc)"
      ],
      "execution_count": 31,
      "outputs": [
        {
          "output_type": "stream",
          "text": [
            "313/313 [==============================] - 1s 3ms/step - loss: 0.0872 - accuracy: 0.9753\n",
            "0.08718260377645493 0.9753000140190125\n"
          ],
          "name": "stdout"
        }
      ]
    }
  ]
}